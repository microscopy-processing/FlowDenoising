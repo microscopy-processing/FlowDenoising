{
 "cells": [
  {
   "cell_type": "markdown",
   "id": "5f4d0cc9",
   "metadata": {},
   "source": [
    "## Wall time VS number of cores"
   ]
  },
  {
   "cell_type": "code",
   "execution_count": null,
   "id": "5956d949",
   "metadata": {
    "execution": {
     "iopub.execute_input": "2023-02-17T21:29:49.018877Z",
     "iopub.status.busy": "2023-02-17T21:29:49.018569Z",
     "iopub.status.idle": "2023-02-17T21:29:49.167231Z",
     "shell.execute_reply": "2023-02-17T21:29:49.166406Z"
    }
   },
   "outputs": [],
   "source": [
    "!cat /proc/cpuinfo"
   ]
  },
  {
   "cell_type": "code",
   "execution_count": null,
   "id": "ea99be72",
   "metadata": {},
   "outputs": [],
   "source": [
    "%%bash\n",
    "if test ! -f TS_026.rec; then\n",
    "    wget --quiet https://ftp.ebi.ac.uk/empiar/world_availability/10988/data/DEF/tomograms/TS_026.rec\n",
    "fi\n",
    "ln -sf TS_026.rec TS_026.mrc"
   ]
  },
  {
   "cell_type": "code",
   "execution_count": null,
   "id": "cc6089d0",
   "metadata": {
    "execution": {
     "iopub.execute_input": "2023-02-17T21:29:49.556638Z",
     "iopub.status.busy": "2023-02-17T21:29:49.556341Z",
     "iopub.status.idle": "2023-02-17T21:31:14.494251Z",
     "shell.execute_reply": "2023-02-17T21:31:14.493542Z"
    }
   },
   "outputs": [],
   "source": [
    "%%time\n",
    "!python ../flowdenoising.py -i TS_026.mrc -o TS_026__denoised.mrc -v 1 -l 0"
   ]
  },
  {
   "cell_type": "code",
   "execution_count": null,
   "id": "f405a528",
   "metadata": {
    "execution": {
     "iopub.execute_input": "2023-02-17T21:37:09.952333Z",
     "iopub.status.busy": "2023-02-17T21:37:09.952123Z",
     "iopub.status.idle": "2023-02-17T21:38:34.442597Z",
     "shell.execute_reply": "2023-02-17T21:38:34.441539Z"
    }
   },
   "outputs": [],
   "source": [
    "%%time\n",
    "!python ../flowdenoising.py -i TS_026.mrc -o TS_026__denoised.mrc -v 1 -l 0 -p 48"
   ]
  },
  {
   "cell_type": "code",
   "execution_count": null,
   "id": "0221cd5b",
   "metadata": {
    "execution": {
     "iopub.execute_input": "2023-02-17T21:38:34.445912Z",
     "iopub.status.busy": "2023-02-17T21:38:34.445675Z",
     "iopub.status.idle": "2023-02-17T21:40:00.829703Z",
     "shell.execute_reply": "2023-02-17T21:40:00.829136Z"
    }
   },
   "outputs": [],
   "source": [
    "%%time\n",
    "!python ../flowdenoising.py -i TS_026.mrc -o TS_026__denoised.mrc -v 1 -l 0 -p 40"
   ]
  },
  {
   "cell_type": "code",
   "execution_count": null,
   "id": "8ec654ea",
   "metadata": {
    "execution": {
     "iopub.execute_input": "2023-02-17T21:40:00.832075Z",
     "iopub.status.busy": "2023-02-17T21:40:00.831887Z",
     "iopub.status.idle": "2023-02-17T21:41:31.270759Z",
     "shell.execute_reply": "2023-02-17T21:41:31.270080Z"
    }
   },
   "outputs": [],
   "source": [
    "%%time\n",
    "!python ../flowdenoising.py -i TS_026.mrc -o TS_026__denoised.mrc -v 1 -l 0 -p 32"
   ]
  },
  {
   "cell_type": "code",
   "execution_count": null,
   "id": "bf99dcea",
   "metadata": {
    "execution": {
     "iopub.execute_input": "2023-02-17T21:41:31.273331Z",
     "iopub.status.busy": "2023-02-17T21:41:31.273122Z",
     "iopub.status.idle": "2023-02-17T21:43:13.940992Z",
     "shell.execute_reply": "2023-02-17T21:43:13.939888Z"
    }
   },
   "outputs": [],
   "source": [
    "%%time\n",
    "!python ../flowdenoising.py -i TS_026.mrc -o TS_026__denoised.mrc -v 1 -l 0 -p 24"
   ]
  },
  {
   "cell_type": "code",
   "execution_count": null,
   "id": "c855b6be",
   "metadata": {
    "execution": {
     "iopub.execute_input": "2023-02-17T21:43:13.945175Z",
     "iopub.status.busy": "2023-02-17T21:43:13.944956Z",
     "iopub.status.idle": "2023-02-17T21:45:05.133817Z",
     "shell.execute_reply": "2023-02-17T21:45:05.132928Z"
    }
   },
   "outputs": [],
   "source": [
    "%%time\n",
    "!python ../flowdenoising.py -i TS_026.mrc -o TS_026__denoised.mrc -v 1 -l 0 -p 16"
   ]
  },
  {
   "cell_type": "code",
   "execution_count": null,
   "id": "dc8543af",
   "metadata": {
    "execution": {
     "iopub.execute_input": "2023-02-17T21:45:05.136536Z",
     "iopub.status.busy": "2023-02-17T21:45:05.136328Z",
     "iopub.status.idle": "2023-02-17T21:47:24.933272Z",
     "shell.execute_reply": "2023-02-17T21:47:24.932635Z"
    }
   },
   "outputs": [],
   "source": [
    "%%time\n",
    "!python ../flowdenoising.py -i TS_026.mrc -o TS_026__denoised.mrc -v 1 -l 0 -p 8"
   ]
  },
  {
   "cell_type": "code",
   "execution_count": null,
   "id": "a343af1b",
   "metadata": {
    "execution": {
     "iopub.execute_input": "2023-02-17T21:47:24.935997Z",
     "iopub.status.busy": "2023-02-17T21:47:24.935773Z",
     "iopub.status.idle": "2023-02-17T21:51:45.554313Z",
     "shell.execute_reply": "2023-02-17T21:51:45.553397Z"
    }
   },
   "outputs": [],
   "source": [
    "%%time\n",
    "!python ../flowdenoising.py -i TS_026.mrc -o TS_026__denoised.mrc -v 1 -l 0 -p 4"
   ]
  },
  {
   "cell_type": "code",
   "execution_count": null,
   "id": "fc441f31",
   "metadata": {
    "execution": {
     "iopub.execute_input": "2023-02-17T21:51:45.557064Z",
     "iopub.status.busy": "2023-02-17T21:51:45.556849Z",
     "iopub.status.idle": "2023-02-17T22:00:09.232170Z",
     "shell.execute_reply": "2023-02-17T22:00:09.231537Z"
    }
   },
   "outputs": [],
   "source": [
    "%%time\n",
    "!python ../flowdenoising.py -i TS_026.mrc -o TS_026__denoised.mrc -v 1 -l 0 -p 2"
   ]
  },
  {
   "cell_type": "code",
   "execution_count": null,
   "id": "f48d9a99",
   "metadata": {
    "execution": {
     "iopub.execute_input": "2023-02-17T22:00:09.235002Z",
     "iopub.status.busy": "2023-02-17T22:00:09.234803Z",
     "iopub.status.idle": "2023-02-17T22:16:26.090993Z",
     "shell.execute_reply": "2023-02-17T22:16:26.090154Z"
    }
   },
   "outputs": [],
   "source": [
    "%%time\n",
    "!python ../flowdenoising.py -i TS_026.mrc -o TS_026__denoised.mrc -v 1 -l 0 -p 1"
   ]
  },
  {
   "cell_type": "code",
   "execution_count": null,
   "id": "11701aa7",
   "metadata": {
    "execution": {
     "iopub.execute_input": "2023-02-17T22:16:26.093980Z",
     "iopub.status.busy": "2023-02-17T22:16:26.093772Z",
     "iopub.status.idle": "2023-02-17T22:31:06.321682Z",
     "shell.execute_reply": "2023-02-17T22:31:06.321075Z"
    }
   },
   "outputs": [],
   "source": [
    "%%time\n",
    "!python ../flowdenoising_sequential.py -i TS_026.mrc -o TS_026__denoised.mrc -v 1 -l 0"
   ]
  }
 ],
 "metadata": {
  "kernelspec": {
   "display_name": "Python 3 (ipykernel)",
   "language": "python",
   "name": "python3"
  },
  "language_info": {
   "codemirror_mode": {
    "name": "ipython",
    "version": 3
   },
   "file_extension": ".py",
   "mimetype": "text/x-python",
   "name": "python",
   "nbconvert_exporter": "python",
   "pygments_lexer": "ipython3",
   "version": "3.10.9"
  }
 },
 "nbformat": 4,
 "nbformat_minor": 5
}
