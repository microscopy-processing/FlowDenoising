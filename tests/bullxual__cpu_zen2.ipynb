{
 "cells": [
  {
   "cell_type": "markdown",
   "id": "5f4d0cc9",
   "metadata": {},
   "source": [
    "## Wall time VS number of cores"
   ]
  },
  {
   "cell_type": "code",
   "execution_count": null,
   "id": "5956d949",
   "metadata": {},
   "outputs": [],
   "source": [
    "!cat /proc/cpuinfo"
   ]
  },
  {
   "cell_type": "code",
   "execution_count": null,
   "id": "19d06d0f",
   "metadata": {},
   "outputs": [],
   "source": [
    "%%bash\n",
    "OUTPUT_FILENAME=\"big_vol.mrc\"\n",
    "if test ! -f $OUTPUT_FILENAME ; then\n",
    "    FILEID=\"1lSFb4VZ5iqR3kLdPv1dDbdOe9dKPZ--_\"\n",
    "    wget --quiet --load-cookies /tmp/cookies.txt \"https://docs.google.com/uc?export=download&confirm=$(wget --quiet --save-cookies /tmp/cookies.txt --keep-session-cookies --no-check-certificate 'https://docs.google.com/uc?export=download&id='$FILEID -O- | sed -rn 's/.*confirm=([0-9A-Za-z_]+).*/\\1\\n/p')&id=\"$FILEID -O $OUTPUT_FILENAME && rm -rf /tmp/cookies.txt 2> /dev/null\n",
    "fi\n",
    "mv big_vol.mrc /tmp"
   ]
  },
  {
   "cell_type": "code",
   "execution_count": null,
   "id": "cc6089d0",
   "metadata": {},
   "outputs": [],
   "source": [
    "%%time\n",
    "!python ../flowdenoising.py -i /tmp/big_vol.mrc -o /tmp/denoised.mrc -v 1 -l 0 -p 96"
   ]
  },
  {
   "cell_type": "code",
   "execution_count": null,
   "id": "6d0fe7bb",
   "metadata": {},
   "outputs": [],
   "source": [
    "%%time\n",
    "!python ../flowdenoising.py -i /tmp/big_vol.mrc -o /tmp/denoised.mrc -v 1 -l 0 -p 88"
   ]
  },
  {
   "cell_type": "code",
   "execution_count": null,
   "id": "dbcc9079",
   "metadata": {},
   "outputs": [],
   "source": [
    "%%time\n",
    "!python ../flowdenoising.py -i /tmp/big_vol.mrc -o /tmp/denoised.mrc -v 1 -l 0 -p 80"
   ]
  },
  {
   "cell_type": "code",
   "execution_count": null,
   "id": "44866b38",
   "metadata": {},
   "outputs": [],
   "source": [
    "%%time\n",
    "!python ../flowdenoising.py -i /tmp/big_vol.mrc -o /tmp/denoised.mrc -v 1 -l 0 -p 72"
   ]
  },
  {
   "cell_type": "code",
   "execution_count": null,
   "id": "339c8580",
   "metadata": {},
   "outputs": [],
   "source": [
    "%%time\n",
    "!python ../flowdenoising.py -i /tmp/big_vol.mrc -o /tmp/denoised.mrc -v 1 -l 0 -p 64"
   ]
  },
  {
   "cell_type": "code",
   "execution_count": null,
   "id": "c6eb9b88",
   "metadata": {},
   "outputs": [],
   "source": [
    "%%time\n",
    "!python ../flowdenoising.py -i /tmp/big_vol.mrc -o /tmp/denoised.mrc -v 1 -l 0 -p 56"
   ]
  },
  {
   "cell_type": "code",
   "execution_count": null,
   "id": "f405a528",
   "metadata": {},
   "outputs": [],
   "source": [
    "%%time\n",
    "!python ../flowdenoising.py -i /tmp/big_vol.mrc -o /tmp/denoised.mrc -v 1 -l 0 -p 48"
   ]
  },
  {
   "cell_type": "code",
   "execution_count": null,
   "id": "0221cd5b",
   "metadata": {},
   "outputs": [],
   "source": [
    "%%time\n",
    "!python ../flowdenoising.py -i /tmp/big_vol.mrc -o /tmp/denoised.mrc -v 1 -l 0 -p 40"
   ]
  },
  {
   "cell_type": "code",
   "execution_count": null,
   "id": "8ec654ea",
   "metadata": {},
   "outputs": [],
   "source": [
    "%%time\n",
    "!python ../flowdenoising.py -i /tmp/big_vol.mrc -o /tmp/denoised.mrc -v 1 -l 0 -p 32"
   ]
  },
  {
   "cell_type": "code",
   "execution_count": null,
   "id": "bf99dcea",
   "metadata": {},
   "outputs": [],
   "source": [
    "%%time\n",
    "!python ../flowdenoising.py -i /tmp/big_vol.mrc -o /tmp/denoised.mrc -v 1 -l 0 -p 24"
   ]
  },
  {
   "cell_type": "code",
   "execution_count": null,
   "id": "c855b6be",
   "metadata": {},
   "outputs": [],
   "source": [
    "%%time\n",
    "!python ../flowdenoising.py -i /tmp/big_vol.mrc -o /tmp/denoised.mrc -v 1 -l 0 -p 16"
   ]
  },
  {
   "cell_type": "code",
   "execution_count": null,
   "id": "dc8543af",
   "metadata": {},
   "outputs": [],
   "source": [
    "%%time\n",
    "!python ../flowdenoising.py -i /tmp/big_vol.mrc -o /tmp/denoised.mrc -v 1 -l 0 -p 8"
   ]
  },
  {
   "cell_type": "code",
   "execution_count": null,
   "id": "a343af1b",
   "metadata": {},
   "outputs": [],
   "source": [
    "%%time\n",
    "!python ../flowdenoising.py -i /tmp/big_vol.mrc -o /tmp/denoised.mrc -v 1 -l 0 -p 4"
   ]
  },
  {
   "cell_type": "code",
   "execution_count": null,
   "id": "fc441f31",
   "metadata": {},
   "outputs": [],
   "source": [
    "%%time\n",
    "!python ../flowdenoising.py -i /tmp/big_vol.mrc -o /tmp/denoised.mrc -v 1 -l 0 -p 2"
   ]
  },
  {
   "cell_type": "code",
   "execution_count": null,
   "id": "f48d9a99",
   "metadata": {},
   "outputs": [],
   "source": [
    "%%time\n",
    "!python ../flowdenoising.py -i /tmp/big_vol.mrc -o /tmp/denoised.mrc -v 1 -l 0 -p 1"
   ]
  },
  {
   "cell_type": "code",
   "execution_count": null,
   "id": "11701aa7",
   "metadata": {},
   "outputs": [],
   "source": [
    "%%time\n",
    "!python ../flowdenoising_sequential.py -i /tmp/big_vol.mrc -o /tmp/denoised.mrc -v 1 -l 0"
   ]
  }
 ],
 "metadata": {
  "kernelspec": {
   "display_name": "Python 3 (ipykernel)",
   "language": "python",
   "name": "python3"
  },
  "language_info": {
   "codemirror_mode": {
    "name": "ipython",
    "version": 3
   },
   "file_extension": ".py",
   "mimetype": "text/x-python",
   "name": "python",
   "nbconvert_exporter": "python",
   "pygments_lexer": "ipython3",
   "version": "3.10.8"
  }
 },
 "nbformat": 4,
 "nbformat_minor": 5
}
