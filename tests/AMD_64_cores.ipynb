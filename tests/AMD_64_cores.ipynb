{
 "cells": [
  {
   "cell_type": "markdown",
   "id": "5f4d0cc9",
   "metadata": {},
   "source": [
    "## Wall time VS number of cores"
   ]
  },
  {
   "cell_type": "code",
   "execution_count": null,
   "id": "19d06d0f",
   "metadata": {},
   "outputs": [],
   "source": [
    "%%bash\n",
    "OUTPUT_FILENAME=\"big_vol.mrc\"\n",
    "if test ! -f $OUTPUT_FILENAME ; then\n",
    "    FILEID=\"1lSFb4VZ5iqR3kLdPv1dDbdOe9dKPZ--_\"\n",
    "    wget --quiet --load-cookies /tmp/cookies.txt \"https://docs.google.com/uc?export=download&confirm=$(wget --quiet --save-cookies /tmp/cookies.txt --keep-session-cookies --no-check-certificate 'https://docs.google.com/uc?export=download&id='$FILEID -O- | sed -rn 's/.*confirm=([0-9A-Za-z_]+).*/\\1\\n/p')&id=\"$FILEID -O $OUTPUT_FILENAME && rm -rf /tmp/cookies.txt 2> /dev/null\n",
    "fi\n",
    "mv big_vol.mrc /tmp"
   ]
  },
  {
   "cell_type": "code",
   "execution_count": null,
   "id": "24ec0981",
   "metadata": {},
   "outputs": [],
   "source": [
    "%%time\n",
    "!python ../flowdenoising.py -i /tmp/big_vol.mrc -o /tmp/denoised.mrc -v 1 -l 0"
   ]
  },
  {
   "cell_type": "code",
   "execution_count": null,
   "id": "7f2ba535",
   "metadata": {},
   "outputs": [],
   "source": [
    "%%time\n",
    "!python ../flowdenoising.py -i /tmp/big_vol.mrc -o /tmp/denoised.mrc -v 1 -l 0 -p 48"
   ]
  },
  {
   "cell_type": "code",
   "execution_count": null,
   "id": "e8f45d77",
   "metadata": {},
   "outputs": [],
   "source": [
    "%%time\n",
    "!python ../flowdenoising.py -i /tmp/big_vol.mrc -o /tmp/denoised.mrc -v 1 -l 0 -p 40"
   ]
  },
  {
   "cell_type": "code",
   "execution_count": null,
   "id": "4fb488a7",
   "metadata": {},
   "outputs": [],
   "source": [
    "%%time\n",
    "!python ../flowdenoising.py -i /tmp/big_vol.mrc -o /tmp/denoised.mrc -v 1 -l 0 -p 32"
   ]
  },
  {
   "cell_type": "code",
   "execution_count": null,
   "id": "0ed191c1",
   "metadata": {},
   "outputs": [],
   "source": [
    "%%time\n",
    "!python ../flowdenoising.py -i /tmp/big_vol.mrc -o /tmp/denoised.mrc -v 1 -l 0 -p 24"
   ]
  },
  {
   "cell_type": "code",
   "execution_count": null,
   "id": "b6f4208b",
   "metadata": {},
   "outputs": [],
   "source": [
    "%%time\n",
    "!python ../flowdenoising.py -i /tmp/big_vol.mrc -o /tmp/denoised.mrc -v 1 -l 0 -p 16"
   ]
  },
  {
   "cell_type": "code",
   "execution_count": null,
   "id": "accda2ad",
   "metadata": {},
   "outputs": [],
   "source": [
    "%%time\n",
    "!python ../flowdenoising.py -i /tmp/big_vol.mrc -o /tmp/denoised.mrc -v 1 -l 0 -p 16"
   ]
  },
  {
   "cell_type": "code",
   "execution_count": null,
   "id": "b7fb972a",
   "metadata": {},
   "outputs": [],
   "source": [
    "%%time\n",
    "!python ../flowdenoising.py -i /tmp/big_vol.mrc -o /tmp/denoised.mrc -v 1 -l 0 -p 15"
   ]
  },
  {
   "cell_type": "code",
   "execution_count": null,
   "id": "9c72c160",
   "metadata": {},
   "outputs": [],
   "source": [
    "%%time\n",
    "!python ../flowdenoising.py -i /tmp/big_vol.mrc -o /tmp/denoised.mrc -v 1 -l 0 -p 14"
   ]
  },
  {
   "cell_type": "code",
   "execution_count": null,
   "id": "1e46837b",
   "metadata": {},
   "outputs": [],
   "source": [
    "%%time\n",
    "!python ../flowdenoising.py -i /tmp/big_vol.mrc -o /tmp/denoised.mrc -v 1 -l 0 -p 13"
   ]
  },
  {
   "cell_type": "code",
   "execution_count": null,
   "id": "28801975",
   "metadata": {},
   "outputs": [],
   "source": [
    "%%time\n",
    "!python ../flowdenoising.py -i /tmp/big_vol.mrc -o /tmp/denoised.mrc -v 1 -l 0 -p 12"
   ]
  },
  {
   "cell_type": "code",
   "execution_count": null,
   "id": "4a31b4cd",
   "metadata": {},
   "outputs": [],
   "source": [
    "%%time\n",
    "!python ../flowdenoising.py -i /tmp/big_vol.mrc -o /tmp/denoised.mrc -v 1 -l 0 -p 11"
   ]
  },
  {
   "cell_type": "code",
   "execution_count": null,
   "id": "4b97dc4e",
   "metadata": {},
   "outputs": [],
   "source": [
    "%%time\n",
    "!python ../flowdenoising.py -i /tmp/big_vol.mrc -o /tmp/denoised.mrc -v 1 -l 0 -p 10"
   ]
  },
  {
   "cell_type": "code",
   "execution_count": null,
   "id": "89873068",
   "metadata": {},
   "outputs": [],
   "source": [
    "%%time\n",
    "!python ../flowdenoising.py -i /tmp/big_vol.mrc -o /tmp/denoised.mrc -v 1 -l 0 -p 9"
   ]
  },
  {
   "cell_type": "code",
   "execution_count": null,
   "id": "dc8543af",
   "metadata": {},
   "outputs": [],
   "source": [
    "%%time\n",
    "!python ../flowdenoising.py -i /tmp/big_vol.mrc -o /tmp/denoised.mrc -v 1 -l 0 -p 8"
   ]
  },
  {
   "cell_type": "code",
   "execution_count": null,
   "id": "a343af1b",
   "metadata": {},
   "outputs": [],
   "source": [
    "%%time\n",
    "!python ../flowdenoising.py -i /tmp/big_vol.mrc -o /tmp/denoised.mrc -v 1 -l 0 -p 4"
   ]
  },
  {
   "cell_type": "code",
   "execution_count": null,
   "id": "fc441f31",
   "metadata": {},
   "outputs": [],
   "source": [
    "%%time\n",
    "!python ../flowdenoising.py -i /tmp/big_vol.mrc -o /tmp/denoised.mrc -v 1 -l 0 -p 2"
   ]
  },
  {
   "cell_type": "code",
   "execution_count": null,
   "id": "f48d9a99",
   "metadata": {},
   "outputs": [],
   "source": [
    "%%time\n",
    "!python ../flowdenoising.py -i /tmp/big_vol.mrc -o /tmp/denoised.mrc -v 1 -l 0 -p 1"
   ]
  },
  {
   "cell_type": "code",
   "execution_count": null,
   "id": "11701aa7",
   "metadata": {},
   "outputs": [],
   "source": [
    "%%time\n",
    "!python ../flowdenoising_sequential.py -i /tmp/big_vol.mrc -o /tmp/denoised.mrc -v 1 -l 0"
   ]
  }
 ],
 "metadata": {
  "kernelspec": {
   "display_name": "Python 3 (ipykernel)",
   "language": "python",
   "name": "python3"
  },
  "language_info": {
   "codemirror_mode": {
    "name": "ipython",
    "version": 3
   },
   "file_extension": ".py",
   "mimetype": "text/x-python",
   "name": "python",
   "nbconvert_exporter": "python",
   "pygments_lexer": "ipython3",
   "version": "3.10.9"
  }
 },
 "nbformat": 4,
 "nbformat_minor": 5
}
